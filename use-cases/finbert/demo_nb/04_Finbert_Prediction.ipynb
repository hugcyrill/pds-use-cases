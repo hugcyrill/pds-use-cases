{
 "cells": [
  {
   "cell_type": "markdown",
   "id": "da6d3011-8e5d-4d2d-9e48-c44c947a321c",
   "metadata": {},
   "source": [
    "<img src=\"./img/hpe_logo.png\" alt=\"HPE Logo\" width=\"300\">"
   ]
  },
  {
   "cell_type": "markdown",
   "id": "ba3033d6-3d69-4911-968a-26f90c2ff764",
   "metadata": {},
   "source": [
    "<h1>Finbert Prediction from Seldon Deployment</h1>\n",
    "\n",
    "<h5>Date: 10/20/22</h5>\n",
    "<h5>Version: 0.1</h5>\n",
    "<h5>Authors: cyrill.hug@hpe.com, daniel.cao@hpe.com</h5>"
   ]
  },
  {
   "cell_type": "markdown",
   "id": "fe0cee4a-a3c1-48b5-86b9-b33b50de586b",
   "metadata": {},
   "source": [
    "<img src=\"./img/platform_step0.png\" alt=\"Enterprise Machine Learning platform architecture\" width=\"850\">"
   ]
  },
  {
   "cell_type": "markdown",
   "id": "615fd494-142c-4341-b928-df7bebfa4954",
   "metadata": {},
   "source": [
    "<h3>Import modules and define functions</h3>\n",
    "The cell below imports all modules and libraries required to run the demo."
   ]
  },
  {
   "cell_type": "code",
   "execution_count": null,
   "id": "b6431998-2250-4f94-b03d-5c63160f1c2e",
   "metadata": {},
   "outputs": [],
   "source": [
    "# needs to be added to my docker image\n",
    "!pip install seldon-core"
   ]
  },
  {
   "cell_type": "code",
   "execution_count": 8,
   "id": "5995591f-539f-4b79-8304-3492b7e7eac0",
   "metadata": {},
   "outputs": [],
   "source": [
    "# imports\n",
    "import sys\n",
    "import torch\n",
    "import numpy as np\n",
    "import matplotlib.pyplot as plt\n",
    "import pandas as pd\n",
    "\n",
    "from seldon_core.seldon_client import SeldonClient"
   ]
  },
  {
   "cell_type": "markdown",
   "id": "ed8056db-801d-4dcd-8353-bc1e98e26244",
   "metadata": {},
   "source": [
    "<h3>Step 1: Setting up the Seldon client and defining support functions</h3>"
   ]
  },
  {
   "cell_type": "code",
   "execution_count": 2,
   "id": "6112e2ad-b337-4ae1-861b-2c41885b0efd",
   "metadata": {},
   "outputs": [],
   "source": [
    "# set seldon IP and image for payload\n",
    "seldon_ip = \"10.100.1.80\"\n",
    "\n",
    "# setup seldon client\n",
    "sc = SeldonClient(\n",
    "    deployment_name=\"finbert\", namespace=\"seldon\", gateway_endpoint=f\"{seldon_ip}:80\", gateway=\"istio\"\n",
    ")"
   ]
  },
  {
   "cell_type": "markdown",
   "id": "7480ff46-ee55-468e-9891-610bd55a7523",
   "metadata": {},
   "source": [
    "<h3>Step 2: Setting up the Seldon client and defining support functions</h3>"
   ]
  },
  {
   "cell_type": "code",
   "execution_count": 3,
   "id": "26b9a2ef-94c3-4e2b-a62f-e609cc7f12ef",
   "metadata": {},
   "outputs": [
    {
     "name": "stdout",
     "output_type": "stream",
     "text": [
      "TEXT #1 THAT WILL BE SUBMITTED: \n",
      "===============================\n",
      "Later that day Apple said it was revising down its earnings expectations in the fourth quarter of 2018, largely because of lower sales and signs of economic weakness in China.\n",
      "\n",
      "TEXT #2 THAT WILL BE SUBMITTED: \n",
      "===============================\n",
      "Bob van Dijk, CEO of Naspers and Prosus Group poses at Amsterdam's stock exchange, as Prosus begins trading on the Euronext stock exchange in Amsterdam, Netherlands, September 11, 2019 - REUTERS/Piroschka van de Wouw\n",
      "\n",
      "TEXT #3 THAT WILL BE SUBMITTED: \n",
      "===============================\n",
      "Euronext had given an indicative price of 58.70 euros per share for Prosus, implying a market value of 95.3 billion euros ($105 billion) - The shares jumped to 76 euros on opening and were trading at 75 euros at 0719 GMT.\n",
      "\n"
     ]
    }
   ],
   "source": [
    "# define empty list to hold submissions\n",
    "neg_text = []\n",
    "\n",
    "# define string to create sentiment analysis for, convert to ndarray for Seldon (NEGATIVE)\n",
    "neg_text.append(\"Later that day Apple said it was revising down its earnings expectations in the fourth quarter of 2018, largely because of lower sales and signs of economic weakness in China.\")\n",
    "\n",
    "# define string to create sentiment analysis for, convert to ndarray for Seldon (NEUTRAL)\n",
    "neg_text.append(\"Bob van Dijk, CEO of Naspers and Prosus Group poses at Amsterdam's stock exchange, as Prosus begins trading on the Euronext stock exchange in Amsterdam, Netherlands, September 11, 2019 - REUTERS/Piroschka van de Wouw\")\n",
    "\n",
    "# define string to create sentiment analysis for, convert to ndarray for Seldon (Positive)\n",
    "neg_text.append(\"Euronext had given an indicative price of 58.70 euros per share for Prosus, implying a market value of 95.3 billion euros ($105 billion) - The shares jumped to 76 euros on opening and were trading at 75 euros at 0719 GMT.\")\n",
    "\n",
    "# print text that will be submitted\n",
    "i = 0\n",
    "for text in neg_text:\n",
    "    print(\"TEXT #\" + str(i+1) + \" THAT WILL BE SUBMITTED: \\n\" + \"=\"*31 + \"\\n\" + str(text) + \"\\n\")\n",
    "    i+=1"
   ]
  },
  {
   "cell_type": "markdown",
   "id": "132300b7-2896-49a6-a170-510ae2dfb582",
   "metadata": {},
   "source": [
    "<h3>Step 3: Request prediction from Seldon deployment</h3>"
   ]
  },
  {
   "cell_type": "code",
   "execution_count": 4,
   "id": "3afcdd6c-1c54-49ab-82ea-cc4c57b6b044",
   "metadata": {},
   "outputs": [
    {
     "name": "stdout",
     "output_type": "stream",
     "text": [
      "Prediction #1 received successfully!\n",
      "Prediction #2 received successfully!\n",
      "Prediction #3 received successfully!\n"
     ]
    }
   ],
   "source": [
    "# define empty lists to store results\n",
    "i = 0\n",
    "submission, sentiment, sentiment_score = [], [], []\n",
    "\n",
    "for text in neg_text:\n",
    "    # submit ndarray payload (string) to Seldon using rest transport, save response in out\n",
    "    out = sc.predict(transport=\"rest\", data=np.array([text]), payload_type=\"ndarray\")\n",
    "\n",
    "    # unpack response from out if successful\n",
    "    if out.success:\n",
    "        submission.append(out.response[\"data\"][\"ndarray\"][0])\n",
    "        sentiment.append(out.response[\"data\"][\"ndarray\"][1])\n",
    "        sentiment_score.append(out.response[\"data\"][\"ndarray\"][2])\n",
    "        print(f\"Prediction #{i+1} received successfully!\")\n",
    "    else:\n",
    "        print(f\"Prediction #{i+1} failed!\")\n",
    "    i+=1"
   ]
  },
  {
   "cell_type": "markdown",
   "id": "aed3523b-bc3b-48f8-82c9-367ee936444e",
   "metadata": {},
   "source": [
    "<h3>Step 4: Display predictions</h3>"
   ]
  },
  {
   "cell_type": "code",
   "execution_count": 31,
   "id": "90ec0367-49fa-4a6b-aa14-d6390e06285c",
   "metadata": {},
   "outputs": [
    {
     "name": "stdout",
     "output_type": "stream",
     "text": [
      "Result #1\n",
      "===============================\n",
      "TEXT: Later that day Apple said it was revising down its earnings expectations in the fourth quarter of 2018, largely because of lower sales and signs of economic weakness in China.\n",
      "SENTIMENT: negative\n",
      "SENTIMENT SCORE: -0.8288698\n",
      "\n",
      "Result #2\n",
      "===============================\n",
      "TEXT: Bob van Dijk, CEO of Naspers and Prosus Group poses at Amsterdam's stock exchange, as Prosus begins trading on the Euronext stock exchange in Amsterdam, Netherlands, September 11, 2019 - REUTERS/Piroschka van de Wouw\n",
      "SENTIMENT: neutral\n",
      "SENTIMENT SCORE: 0.03560921\n",
      "\n",
      "Result #3\n",
      "===============================\n",
      "TEXT: Euronext had given an indicative price of 58.70 euros per share for Prosus, implying a market value of 95.3 billion euros ($105 billion) - The shares jumped to 76 euros on opening and were trading at 75 euros at 0719 GMT.\n",
      "SENTIMENT: positive\n",
      "SENTIMENT SCORE: 0.50443304\n",
      "\n"
     ]
    }
   ],
   "source": [
    "# list of labels\n",
    "label_list = [\"positive\", \"negative\", \"neutral\"]\n",
    "\n",
    "# print result for every submission\n",
    "i = 0\n",
    "for sub in submission:\n",
    "    print(\"Result #\" + str(i+1) + \"\\n\" + \"=\"*31 + \"\\n\" + \"TEXT: \" + str(sub))\n",
    "    print(\"SENTIMENT: \" + label_list[int(sentiment[i])])\n",
    "    print(\"SENTIMENT SCORE: \" + str(sentiment_score[i]) + \"\\n\")\n",
    "    i+=1"
   ]
  },
  {
   "cell_type": "code",
   "execution_count": 39,
   "id": "a9b9b33a-78ab-41e9-b136-a8053f526103",
   "metadata": {},
   "outputs": [
    {
     "data": {
      "text/plain": [
       "<AxesSubplot: title={'center': 'Sentiment predictions FSI'}>"
      ]
     },
     "execution_count": 39,
     "metadata": {},
     "output_type": "execute_result"
    },
    {
     "data": {
      "image/png": "[encoded data removed]",
      "text/plain": [
       "<Figure size 640x480 with 1 Axes>"
      ]
     },
     "metadata": {},
     "output_type": "display_data"
    }
   ],
   "source": [
    "# create pd.dataframe for visualization\n",
    "df_sentiment = pd.DataFrame(sentiment)\n",
    "df_sentiment.columns = [\"sentiment\"]\n",
    "df_sentiment.loc[ df_sentiment[\"sentiment\"] == \"0\", \"sentiment\"] = \"positive\"\n",
    "df_sentiment.loc[ df_sentiment[\"sentiment\"] == \"1\", \"sentiment\"] = \"negative\"\n",
    "df_sentiment.loc[ df_sentiment[\"sentiment\"] == \"2\", \"sentiment\"] = \"neutral\"\n",
    "\n",
    "# print plot\n",
    "df_sentiment[\"sentiment\"].value_counts().plot(kind=\"pie\", title=\"Sentiment predictions FSI\", ylabel=\"\")"
   ]
  },
  {
   "cell_type": "code",
   "execution_count": null,
   "id": "49bd553f-22be-4e74-b34e-514055ff5930",
   "metadata": {},
   "outputs": [],
   "source": []
  }
 ],
 "metadata": {
  "kernelspec": {
   "display_name": "Python 3 (ipykernel)",
   "language": "python",
   "name": "python3"
  },
  "language_info": {
   "codemirror_mode": {
    "name": "ipython",
    "version": 3
   },
   "file_extension": ".py",
   "mimetype": "text/x-python",
   "name": "python",
   "nbconvert_exporter": "python",
   "pygments_lexer": "ipython3",
   "version": "3.8.13"
  }
 },
 "nbformat": 4,
 "nbformat_minor": 5
}
